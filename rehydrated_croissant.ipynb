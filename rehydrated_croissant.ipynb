{
  "nbformat": 4,
  "nbformat_minor": 0,
  "metadata": {
    "colab": {
      "provenance": [],
      "authorship_tag": "ABX9TyMaDZHX7bu3rBdP4RdHrE5M",
      "include_colab_link": true
    },
    "kernelspec": {
      "name": "python3",
      "display_name": "Python 3"
    },
    "language_info": {
      "name": "python"
    },
    "widgets": {
      "application/vnd.jupyter.widget-state+json": {
        "55b9aebdbb2b4ca8b9a7edaa204866f6": {
          "model_module": "@jupyter-widgets/controls",
          "model_name": "HBoxModel",
          "model_module_version": "1.5.0",
          "state": {
            "_dom_classes": [],
            "_model_module": "@jupyter-widgets/controls",
            "_model_module_version": "1.5.0",
            "_model_name": "HBoxModel",
            "_view_count": null,
            "_view_module": "@jupyter-widgets/controls",
            "_view_module_version": "1.5.0",
            "_view_name": "HBoxView",
            "box_style": "",
            "children": [
              "IPY_MODEL_77b6fcc57dcb4142b280033f4d6cd634",
              "IPY_MODEL_bf153e1b87074229b7841e180136b847",
              "IPY_MODEL_a470b81c21ec446b9aacd196adbf6689"
            ],
            "layout": "IPY_MODEL_cb3d4d7dad4e48a1bf8f4279bc389932"
          }
        },
        "77b6fcc57dcb4142b280033f4d6cd634": {
          "model_module": "@jupyter-widgets/controls",
          "model_name": "HTMLModel",
          "model_module_version": "1.5.0",
          "state": {
            "_dom_classes": [],
            "_model_module": "@jupyter-widgets/controls",
            "_model_module_version": "1.5.0",
            "_model_name": "HTMLModel",
            "_view_count": null,
            "_view_module": "@jupyter-widgets/controls",
            "_view_module_version": "1.5.0",
            "_view_name": "HTMLView",
            "description": "",
            "description_tooltip": null,
            "layout": "IPY_MODEL_9e0e1cc956e44c63aa93c171cfbb7e7c",
            "placeholder": "​",
            "style": "IPY_MODEL_026ff55b4ec140d8a19213b83d624ff9",
            "value": "Creating parquet from Arrow format: 100%"
          }
        },
        "bf153e1b87074229b7841e180136b847": {
          "model_module": "@jupyter-widgets/controls",
          "model_name": "FloatProgressModel",
          "model_module_version": "1.5.0",
          "state": {
            "_dom_classes": [],
            "_model_module": "@jupyter-widgets/controls",
            "_model_module_version": "1.5.0",
            "_model_name": "FloatProgressModel",
            "_view_count": null,
            "_view_module": "@jupyter-widgets/controls",
            "_view_module_version": "1.5.0",
            "_view_name": "ProgressView",
            "bar_style": "success",
            "description": "",
            "description_tooltip": null,
            "layout": "IPY_MODEL_ae13e4eaf64c4935863c0e694c733a5d",
            "max": 500,
            "min": 0,
            "orientation": "horizontal",
            "style": "IPY_MODEL_f73d0b5f817a41d8ab71e27426ac3e24",
            "value": 500
          }
        },
        "a470b81c21ec446b9aacd196adbf6689": {
          "model_module": "@jupyter-widgets/controls",
          "model_name": "HTMLModel",
          "model_module_version": "1.5.0",
          "state": {
            "_dom_classes": [],
            "_model_module": "@jupyter-widgets/controls",
            "_model_module_version": "1.5.0",
            "_model_name": "HTMLModel",
            "_view_count": null,
            "_view_module": "@jupyter-widgets/controls",
            "_view_module_version": "1.5.0",
            "_view_name": "HTMLView",
            "description": "",
            "description_tooltip": null,
            "layout": "IPY_MODEL_18c904e89b1b4179a946c12b81b4e2a9",
            "placeholder": "​",
            "style": "IPY_MODEL_680fca4b21e443be8f34f6954eea3705",
            "value": " 500/500 [00:00&lt;00:00, 495.94ba/s]"
          }
        },
        "cb3d4d7dad4e48a1bf8f4279bc389932": {
          "model_module": "@jupyter-widgets/base",
          "model_name": "LayoutModel",
          "model_module_version": "1.2.0",
          "state": {
            "_model_module": "@jupyter-widgets/base",
            "_model_module_version": "1.2.0",
            "_model_name": "LayoutModel",
            "_view_count": null,
            "_view_module": "@jupyter-widgets/base",
            "_view_module_version": "1.2.0",
            "_view_name": "LayoutView",
            "align_content": null,
            "align_items": null,
            "align_self": null,
            "border": null,
            "bottom": null,
            "display": null,
            "flex": null,
            "flex_flow": null,
            "grid_area": null,
            "grid_auto_columns": null,
            "grid_auto_flow": null,
            "grid_auto_rows": null,
            "grid_column": null,
            "grid_gap": null,
            "grid_row": null,
            "grid_template_areas": null,
            "grid_template_columns": null,
            "grid_template_rows": null,
            "height": null,
            "justify_content": null,
            "justify_items": null,
            "left": null,
            "margin": null,
            "max_height": null,
            "max_width": null,
            "min_height": null,
            "min_width": null,
            "object_fit": null,
            "object_position": null,
            "order": null,
            "overflow": null,
            "overflow_x": null,
            "overflow_y": null,
            "padding": null,
            "right": null,
            "top": null,
            "visibility": null,
            "width": null
          }
        },
        "9e0e1cc956e44c63aa93c171cfbb7e7c": {
          "model_module": "@jupyter-widgets/base",
          "model_name": "LayoutModel",
          "model_module_version": "1.2.0",
          "state": {
            "_model_module": "@jupyter-widgets/base",
            "_model_module_version": "1.2.0",
            "_model_name": "LayoutModel",
            "_view_count": null,
            "_view_module": "@jupyter-widgets/base",
            "_view_module_version": "1.2.0",
            "_view_name": "LayoutView",
            "align_content": null,
            "align_items": null,
            "align_self": null,
            "border": null,
            "bottom": null,
            "display": null,
            "flex": null,
            "flex_flow": null,
            "grid_area": null,
            "grid_auto_columns": null,
            "grid_auto_flow": null,
            "grid_auto_rows": null,
            "grid_column": null,
            "grid_gap": null,
            "grid_row": null,
            "grid_template_areas": null,
            "grid_template_columns": null,
            "grid_template_rows": null,
            "height": null,
            "justify_content": null,
            "justify_items": null,
            "left": null,
            "margin": null,
            "max_height": null,
            "max_width": null,
            "min_height": null,
            "min_width": null,
            "object_fit": null,
            "object_position": null,
            "order": null,
            "overflow": null,
            "overflow_x": null,
            "overflow_y": null,
            "padding": null,
            "right": null,
            "top": null,
            "visibility": null,
            "width": null
          }
        },
        "026ff55b4ec140d8a19213b83d624ff9": {
          "model_module": "@jupyter-widgets/controls",
          "model_name": "DescriptionStyleModel",
          "model_module_version": "1.5.0",
          "state": {
            "_model_module": "@jupyter-widgets/controls",
            "_model_module_version": "1.5.0",
            "_model_name": "DescriptionStyleModel",
            "_view_count": null,
            "_view_module": "@jupyter-widgets/base",
            "_view_module_version": "1.2.0",
            "_view_name": "StyleView",
            "description_width": ""
          }
        },
        "ae13e4eaf64c4935863c0e694c733a5d": {
          "model_module": "@jupyter-widgets/base",
          "model_name": "LayoutModel",
          "model_module_version": "1.2.0",
          "state": {
            "_model_module": "@jupyter-widgets/base",
            "_model_module_version": "1.2.0",
            "_model_name": "LayoutModel",
            "_view_count": null,
            "_view_module": "@jupyter-widgets/base",
            "_view_module_version": "1.2.0",
            "_view_name": "LayoutView",
            "align_content": null,
            "align_items": null,
            "align_self": null,
            "border": null,
            "bottom": null,
            "display": null,
            "flex": null,
            "flex_flow": null,
            "grid_area": null,
            "grid_auto_columns": null,
            "grid_auto_flow": null,
            "grid_auto_rows": null,
            "grid_column": null,
            "grid_gap": null,
            "grid_row": null,
            "grid_template_areas": null,
            "grid_template_columns": null,
            "grid_template_rows": null,
            "height": null,
            "justify_content": null,
            "justify_items": null,
            "left": null,
            "margin": null,
            "max_height": null,
            "max_width": null,
            "min_height": null,
            "min_width": null,
            "object_fit": null,
            "object_position": null,
            "order": null,
            "overflow": null,
            "overflow_x": null,
            "overflow_y": null,
            "padding": null,
            "right": null,
            "top": null,
            "visibility": null,
            "width": null
          }
        },
        "f73d0b5f817a41d8ab71e27426ac3e24": {
          "model_module": "@jupyter-widgets/controls",
          "model_name": "ProgressStyleModel",
          "model_module_version": "1.5.0",
          "state": {
            "_model_module": "@jupyter-widgets/controls",
            "_model_module_version": "1.5.0",
            "_model_name": "ProgressStyleModel",
            "_view_count": null,
            "_view_module": "@jupyter-widgets/base",
            "_view_module_version": "1.2.0",
            "_view_name": "StyleView",
            "bar_color": null,
            "description_width": ""
          }
        },
        "18c904e89b1b4179a946c12b81b4e2a9": {
          "model_module": "@jupyter-widgets/base",
          "model_name": "LayoutModel",
          "model_module_version": "1.2.0",
          "state": {
            "_model_module": "@jupyter-widgets/base",
            "_model_module_version": "1.2.0",
            "_model_name": "LayoutModel",
            "_view_count": null,
            "_view_module": "@jupyter-widgets/base",
            "_view_module_version": "1.2.0",
            "_view_name": "LayoutView",
            "align_content": null,
            "align_items": null,
            "align_self": null,
            "border": null,
            "bottom": null,
            "display": null,
            "flex": null,
            "flex_flow": null,
            "grid_area": null,
            "grid_auto_columns": null,
            "grid_auto_flow": null,
            "grid_auto_rows": null,
            "grid_column": null,
            "grid_gap": null,
            "grid_row": null,
            "grid_template_areas": null,
            "grid_template_columns": null,
            "grid_template_rows": null,
            "height": null,
            "justify_content": null,
            "justify_items": null,
            "left": null,
            "margin": null,
            "max_height": null,
            "max_width": null,
            "min_height": null,
            "min_width": null,
            "object_fit": null,
            "object_position": null,
            "order": null,
            "overflow": null,
            "overflow_x": null,
            "overflow_y": null,
            "padding": null,
            "right": null,
            "top": null,
            "visibility": null,
            "width": null
          }
        },
        "680fca4b21e443be8f34f6954eea3705": {
          "model_module": "@jupyter-widgets/controls",
          "model_name": "DescriptionStyleModel",
          "model_module_version": "1.5.0",
          "state": {
            "_model_module": "@jupyter-widgets/controls",
            "_model_module_version": "1.5.0",
            "_model_name": "DescriptionStyleModel",
            "_view_count": null,
            "_view_module": "@jupyter-widgets/base",
            "_view_module_version": "1.2.0",
            "_view_name": "StyleView",
            "description_width": ""
          }
        },
        "5a0ab55ac8534320bc72aadf13258cfa": {
          "model_module": "@jupyter-widgets/controls",
          "model_name": "HBoxModel",
          "model_module_version": "1.5.0",
          "state": {
            "_dom_classes": [],
            "_model_module": "@jupyter-widgets/controls",
            "_model_module_version": "1.5.0",
            "_model_name": "HBoxModel",
            "_view_count": null,
            "_view_module": "@jupyter-widgets/controls",
            "_view_module_version": "1.5.0",
            "_view_name": "HBoxView",
            "box_style": "",
            "children": [
              "IPY_MODEL_782a4ba843fb458b82bba0ae3976ff68",
              "IPY_MODEL_e4c7dad2c94f449eae3e9987e2808762",
              "IPY_MODEL_90928940697840b8b480551d5f6d58da"
            ],
            "layout": "IPY_MODEL_a419e7670c1d4799b7aa6c6d25edcc6d"
          }
        },
        "782a4ba843fb458b82bba0ae3976ff68": {
          "model_module": "@jupyter-widgets/controls",
          "model_name": "HTMLModel",
          "model_module_version": "1.5.0",
          "state": {
            "_dom_classes": [],
            "_model_module": "@jupyter-widgets/controls",
            "_model_module_version": "1.5.0",
            "_model_name": "HTMLModel",
            "_view_count": null,
            "_view_module": "@jupyter-widgets/controls",
            "_view_module_version": "1.5.0",
            "_view_name": "HTMLView",
            "description": "",
            "description_tooltip": null,
            "layout": "IPY_MODEL_6fec3c06165a45aba69d36589beef9c4",
            "placeholder": "​",
            "style": "IPY_MODEL_5353fd4eace440b480120a458c588228",
            "value": "Creating parquet from Arrow format: 100%"
          }
        },
        "e4c7dad2c94f449eae3e9987e2808762": {
          "model_module": "@jupyter-widgets/controls",
          "model_name": "FloatProgressModel",
          "model_module_version": "1.5.0",
          "state": {
            "_dom_classes": [],
            "_model_module": "@jupyter-widgets/controls",
            "_model_module_version": "1.5.0",
            "_model_name": "FloatProgressModel",
            "_view_count": null,
            "_view_module": "@jupyter-widgets/controls",
            "_view_module_version": "1.5.0",
            "_view_name": "ProgressView",
            "bar_style": "success",
            "description": "",
            "description_tooltip": null,
            "layout": "IPY_MODEL_10532c7c3a854541a6a0c07a76b1652a",
            "max": 500,
            "min": 0,
            "orientation": "horizontal",
            "style": "IPY_MODEL_bb71837aa3a148179f8935604a6b623b",
            "value": 500
          }
        },
        "90928940697840b8b480551d5f6d58da": {
          "model_module": "@jupyter-widgets/controls",
          "model_name": "HTMLModel",
          "model_module_version": "1.5.0",
          "state": {
            "_dom_classes": [],
            "_model_module": "@jupyter-widgets/controls",
            "_model_module_version": "1.5.0",
            "_model_name": "HTMLModel",
            "_view_count": null,
            "_view_module": "@jupyter-widgets/controls",
            "_view_module_version": "1.5.0",
            "_view_name": "HTMLView",
            "description": "",
            "description_tooltip": null,
            "layout": "IPY_MODEL_6b780e8082374baebc7ffe53aca15b58",
            "placeholder": "​",
            "style": "IPY_MODEL_8d678c717a404a47b2485a359cb2e264",
            "value": " 500/500 [00:01&lt;00:00, 347.74ba/s]"
          }
        },
        "a419e7670c1d4799b7aa6c6d25edcc6d": {
          "model_module": "@jupyter-widgets/base",
          "model_name": "LayoutModel",
          "model_module_version": "1.2.0",
          "state": {
            "_model_module": "@jupyter-widgets/base",
            "_model_module_version": "1.2.0",
            "_model_name": "LayoutModel",
            "_view_count": null,
            "_view_module": "@jupyter-widgets/base",
            "_view_module_version": "1.2.0",
            "_view_name": "LayoutView",
            "align_content": null,
            "align_items": null,
            "align_self": null,
            "border": null,
            "bottom": null,
            "display": null,
            "flex": null,
            "flex_flow": null,
            "grid_area": null,
            "grid_auto_columns": null,
            "grid_auto_flow": null,
            "grid_auto_rows": null,
            "grid_column": null,
            "grid_gap": null,
            "grid_row": null,
            "grid_template_areas": null,
            "grid_template_columns": null,
            "grid_template_rows": null,
            "height": null,
            "justify_content": null,
            "justify_items": null,
            "left": null,
            "margin": null,
            "max_height": null,
            "max_width": null,
            "min_height": null,
            "min_width": null,
            "object_fit": null,
            "object_position": null,
            "order": null,
            "overflow": null,
            "overflow_x": null,
            "overflow_y": null,
            "padding": null,
            "right": null,
            "top": null,
            "visibility": null,
            "width": null
          }
        },
        "6fec3c06165a45aba69d36589beef9c4": {
          "model_module": "@jupyter-widgets/base",
          "model_name": "LayoutModel",
          "model_module_version": "1.2.0",
          "state": {
            "_model_module": "@jupyter-widgets/base",
            "_model_module_version": "1.2.0",
            "_model_name": "LayoutModel",
            "_view_count": null,
            "_view_module": "@jupyter-widgets/base",
            "_view_module_version": "1.2.0",
            "_view_name": "LayoutView",
            "align_content": null,
            "align_items": null,
            "align_self": null,
            "border": null,
            "bottom": null,
            "display": null,
            "flex": null,
            "flex_flow": null,
            "grid_area": null,
            "grid_auto_columns": null,
            "grid_auto_flow": null,
            "grid_auto_rows": null,
            "grid_column": null,
            "grid_gap": null,
            "grid_row": null,
            "grid_template_areas": null,
            "grid_template_columns": null,
            "grid_template_rows": null,
            "height": null,
            "justify_content": null,
            "justify_items": null,
            "left": null,
            "margin": null,
            "max_height": null,
            "max_width": null,
            "min_height": null,
            "min_width": null,
            "object_fit": null,
            "object_position": null,
            "order": null,
            "overflow": null,
            "overflow_x": null,
            "overflow_y": null,
            "padding": null,
            "right": null,
            "top": null,
            "visibility": null,
            "width": null
          }
        },
        "5353fd4eace440b480120a458c588228": {
          "model_module": "@jupyter-widgets/controls",
          "model_name": "DescriptionStyleModel",
          "model_module_version": "1.5.0",
          "state": {
            "_model_module": "@jupyter-widgets/controls",
            "_model_module_version": "1.5.0",
            "_model_name": "DescriptionStyleModel",
            "_view_count": null,
            "_view_module": "@jupyter-widgets/base",
            "_view_module_version": "1.2.0",
            "_view_name": "StyleView",
            "description_width": ""
          }
        },
        "10532c7c3a854541a6a0c07a76b1652a": {
          "model_module": "@jupyter-widgets/base",
          "model_name": "LayoutModel",
          "model_module_version": "1.2.0",
          "state": {
            "_model_module": "@jupyter-widgets/base",
            "_model_module_version": "1.2.0",
            "_model_name": "LayoutModel",
            "_view_count": null,
            "_view_module": "@jupyter-widgets/base",
            "_view_module_version": "1.2.0",
            "_view_name": "LayoutView",
            "align_content": null,
            "align_items": null,
            "align_self": null,
            "border": null,
            "bottom": null,
            "display": null,
            "flex": null,
            "flex_flow": null,
            "grid_area": null,
            "grid_auto_columns": null,
            "grid_auto_flow": null,
            "grid_auto_rows": null,
            "grid_column": null,
            "grid_gap": null,
            "grid_row": null,
            "grid_template_areas": null,
            "grid_template_columns": null,
            "grid_template_rows": null,
            "height": null,
            "justify_content": null,
            "justify_items": null,
            "left": null,
            "margin": null,
            "max_height": null,
            "max_width": null,
            "min_height": null,
            "min_width": null,
            "object_fit": null,
            "object_position": null,
            "order": null,
            "overflow": null,
            "overflow_x": null,
            "overflow_y": null,
            "padding": null,
            "right": null,
            "top": null,
            "visibility": null,
            "width": null
          }
        },
        "bb71837aa3a148179f8935604a6b623b": {
          "model_module": "@jupyter-widgets/controls",
          "model_name": "ProgressStyleModel",
          "model_module_version": "1.5.0",
          "state": {
            "_model_module": "@jupyter-widgets/controls",
            "_model_module_version": "1.5.0",
            "_model_name": "ProgressStyleModel",
            "_view_count": null,
            "_view_module": "@jupyter-widgets/base",
            "_view_module_version": "1.2.0",
            "_view_name": "StyleView",
            "bar_color": null,
            "description_width": ""
          }
        },
        "6b780e8082374baebc7ffe53aca15b58": {
          "model_module": "@jupyter-widgets/base",
          "model_name": "LayoutModel",
          "model_module_version": "1.2.0",
          "state": {
            "_model_module": "@jupyter-widgets/base",
            "_model_module_version": "1.2.0",
            "_model_name": "LayoutModel",
            "_view_count": null,
            "_view_module": "@jupyter-widgets/base",
            "_view_module_version": "1.2.0",
            "_view_name": "LayoutView",
            "align_content": null,
            "align_items": null,
            "align_self": null,
            "border": null,
            "bottom": null,
            "display": null,
            "flex": null,
            "flex_flow": null,
            "grid_area": null,
            "grid_auto_columns": null,
            "grid_auto_flow": null,
            "grid_auto_rows": null,
            "grid_column": null,
            "grid_gap": null,
            "grid_row": null,
            "grid_template_areas": null,
            "grid_template_columns": null,
            "grid_template_rows": null,
            "height": null,
            "justify_content": null,
            "justify_items": null,
            "left": null,
            "margin": null,
            "max_height": null,
            "max_width": null,
            "min_height": null,
            "min_width": null,
            "object_fit": null,
            "object_position": null,
            "order": null,
            "overflow": null,
            "overflow_x": null,
            "overflow_y": null,
            "padding": null,
            "right": null,
            "top": null,
            "visibility": null,
            "width": null
          }
        },
        "8d678c717a404a47b2485a359cb2e264": {
          "model_module": "@jupyter-widgets/controls",
          "model_name": "DescriptionStyleModel",
          "model_module_version": "1.5.0",
          "state": {
            "_model_module": "@jupyter-widgets/controls",
            "_model_module_version": "1.5.0",
            "_model_name": "DescriptionStyleModel",
            "_view_count": null,
            "_view_module": "@jupyter-widgets/base",
            "_view_module_version": "1.2.0",
            "_view_name": "StyleView",
            "description_width": ""
          }
        }
      }
    }
  },
  "cells": [
    {
      "cell_type": "markdown",
      "metadata": {
        "id": "view-in-github",
        "colab_type": "text"
      },
      "source": [
        "<a href=\"https://colab.research.google.com/github/david4096/notebook-examples/blob/main/rehydrated_croissant.ipynb\" target=\"_parent\"><img src=\"https://colab.research.google.com/assets/colab-badge.svg\" alt=\"Open In Colab\"/></a>"
      ]
    },
    {
      "cell_type": "code",
      "source": [
        "!pip install datasets"
      ],
      "metadata": {
        "colab": {
          "base_uri": "https://localhost:8080/"
        },
        "id": "ZKpDccjZeJNz",
        "outputId": "ee5ae274-e895-49fe-ea5d-299d1bf1941c"
      },
      "execution_count": 2,
      "outputs": [
        {
          "output_type": "stream",
          "name": "stdout",
          "text": [
            "Collecting datasets\n",
            "  Downloading datasets-3.3.2-py3-none-any.whl.metadata (19 kB)\n",
            "Requirement already satisfied: filelock in /usr/local/lib/python3.11/dist-packages (from datasets) (3.17.0)\n",
            "Requirement already satisfied: numpy>=1.17 in /usr/local/lib/python3.11/dist-packages (from datasets) (1.26.4)\n",
            "Requirement already satisfied: pyarrow>=15.0.0 in /usr/local/lib/python3.11/dist-packages (from datasets) (17.0.0)\n",
            "Collecting dill<0.3.9,>=0.3.0 (from datasets)\n",
            "  Downloading dill-0.3.8-py3-none-any.whl.metadata (10 kB)\n",
            "Requirement already satisfied: pandas in /usr/local/lib/python3.11/dist-packages (from datasets) (2.2.2)\n",
            "Requirement already satisfied: requests>=2.32.2 in /usr/local/lib/python3.11/dist-packages (from datasets) (2.32.3)\n",
            "Requirement already satisfied: tqdm>=4.66.3 in /usr/local/lib/python3.11/dist-packages (from datasets) (4.67.1)\n",
            "Collecting xxhash (from datasets)\n",
            "  Downloading xxhash-3.5.0-cp311-cp311-manylinux_2_17_x86_64.manylinux2014_x86_64.whl.metadata (12 kB)\n",
            "Collecting multiprocess<0.70.17 (from datasets)\n",
            "  Downloading multiprocess-0.70.16-py311-none-any.whl.metadata (7.2 kB)\n",
            "Requirement already satisfied: fsspec<=2024.12.0,>=2023.1.0 in /usr/local/lib/python3.11/dist-packages (from fsspec[http]<=2024.12.0,>=2023.1.0->datasets) (2024.10.0)\n",
            "Requirement already satisfied: aiohttp in /usr/local/lib/python3.11/dist-packages (from datasets) (3.11.12)\n",
            "Requirement already satisfied: huggingface-hub>=0.24.0 in /usr/local/lib/python3.11/dist-packages (from datasets) (0.28.1)\n",
            "Requirement already satisfied: packaging in /usr/local/lib/python3.11/dist-packages (from datasets) (24.2)\n",
            "Requirement already satisfied: pyyaml>=5.1 in /usr/local/lib/python3.11/dist-packages (from datasets) (6.0.2)\n",
            "Requirement already satisfied: aiohappyeyeballs>=2.3.0 in /usr/local/lib/python3.11/dist-packages (from aiohttp->datasets) (2.4.6)\n",
            "Requirement already satisfied: aiosignal>=1.1.2 in /usr/local/lib/python3.11/dist-packages (from aiohttp->datasets) (1.3.2)\n",
            "Requirement already satisfied: attrs>=17.3.0 in /usr/local/lib/python3.11/dist-packages (from aiohttp->datasets) (25.1.0)\n",
            "Requirement already satisfied: frozenlist>=1.1.1 in /usr/local/lib/python3.11/dist-packages (from aiohttp->datasets) (1.5.0)\n",
            "Requirement already satisfied: multidict<7.0,>=4.5 in /usr/local/lib/python3.11/dist-packages (from aiohttp->datasets) (6.1.0)\n",
            "Requirement already satisfied: propcache>=0.2.0 in /usr/local/lib/python3.11/dist-packages (from aiohttp->datasets) (0.2.1)\n",
            "Requirement already satisfied: yarl<2.0,>=1.17.0 in /usr/local/lib/python3.11/dist-packages (from aiohttp->datasets) (1.18.3)\n",
            "Requirement already satisfied: typing-extensions>=3.7.4.3 in /usr/local/lib/python3.11/dist-packages (from huggingface-hub>=0.24.0->datasets) (4.12.2)\n",
            "Requirement already satisfied: charset-normalizer<4,>=2 in /usr/local/lib/python3.11/dist-packages (from requests>=2.32.2->datasets) (3.4.1)\n",
            "Requirement already satisfied: idna<4,>=2.5 in /usr/local/lib/python3.11/dist-packages (from requests>=2.32.2->datasets) (3.10)\n",
            "Requirement already satisfied: urllib3<3,>=1.21.1 in /usr/local/lib/python3.11/dist-packages (from requests>=2.32.2->datasets) (2.3.0)\n",
            "Requirement already satisfied: certifi>=2017.4.17 in /usr/local/lib/python3.11/dist-packages (from requests>=2.32.2->datasets) (2025.1.31)\n",
            "Requirement already satisfied: python-dateutil>=2.8.2 in /usr/local/lib/python3.11/dist-packages (from pandas->datasets) (2.8.2)\n",
            "Requirement already satisfied: pytz>=2020.1 in /usr/local/lib/python3.11/dist-packages (from pandas->datasets) (2025.1)\n",
            "Requirement already satisfied: tzdata>=2022.7 in /usr/local/lib/python3.11/dist-packages (from pandas->datasets) (2025.1)\n",
            "Requirement already satisfied: six>=1.5 in /usr/local/lib/python3.11/dist-packages (from python-dateutil>=2.8.2->pandas->datasets) (1.17.0)\n",
            "Downloading datasets-3.3.2-py3-none-any.whl (485 kB)\n",
            "\u001b[2K   \u001b[90m━━━━━━━━━━━━━━━━━━━━━━━━━━━━━━━━━━━━━━━━\u001b[0m \u001b[32m485.4/485.4 kB\u001b[0m \u001b[31m28.5 MB/s\u001b[0m eta \u001b[36m0:00:00\u001b[0m\n",
            "\u001b[?25hDownloading dill-0.3.8-py3-none-any.whl (116 kB)\n",
            "\u001b[2K   \u001b[90m━━━━━━━━━━━━━━━━━━━━━━━━━━━━━━━━━━━━━━━━\u001b[0m \u001b[32m116.3/116.3 kB\u001b[0m \u001b[31m9.8 MB/s\u001b[0m eta \u001b[36m0:00:00\u001b[0m\n",
            "\u001b[?25hDownloading multiprocess-0.70.16-py311-none-any.whl (143 kB)\n",
            "\u001b[2K   \u001b[90m━━━━━━━━━━━━━━━━━━━━━━━━━━━━━━━━━━━━━━━━\u001b[0m \u001b[32m143.5/143.5 kB\u001b[0m \u001b[31m13.0 MB/s\u001b[0m eta \u001b[36m0:00:00\u001b[0m\n",
            "\u001b[?25hDownloading xxhash-3.5.0-cp311-cp311-manylinux_2_17_x86_64.manylinux2014_x86_64.whl (194 kB)\n",
            "\u001b[2K   \u001b[90m━━━━━━━━━━━━━━━━━━━━━━━━━━━━━━━━━━━━━━━━\u001b[0m \u001b[32m194.8/194.8 kB\u001b[0m \u001b[31m17.5 MB/s\u001b[0m eta \u001b[36m0:00:00\u001b[0m\n",
            "\u001b[?25hInstalling collected packages: xxhash, dill, multiprocess, datasets\n",
            "Successfully installed datasets-3.3.2 dill-0.3.8 multiprocess-0.70.16 xxhash-3.5.0\n"
          ]
        }
      ]
    },
    {
      "cell_type": "code",
      "execution_count": 17,
      "metadata": {
        "colab": {
          "base_uri": "https://localhost:8080/",
          "height": 66,
          "referenced_widgets": [
            "55b9aebdbb2b4ca8b9a7edaa204866f6",
            "77b6fcc57dcb4142b280033f4d6cd634",
            "bf153e1b87074229b7841e180136b847",
            "a470b81c21ec446b9aacd196adbf6689",
            "cb3d4d7dad4e48a1bf8f4279bc389932",
            "9e0e1cc956e44c63aa93c171cfbb7e7c",
            "026ff55b4ec140d8a19213b83d624ff9",
            "ae13e4eaf64c4935863c0e694c733a5d",
            "f73d0b5f817a41d8ab71e27426ac3e24",
            "18c904e89b1b4179a946c12b81b4e2a9",
            "680fca4b21e443be8f34f6954eea3705"
          ]
        },
        "id": "MhR6BdW6dqwP",
        "outputId": "23610b92-7ba9-4319-d337-40ab793d088e"
      },
      "outputs": [
        {
          "output_type": "display_data",
          "data": {
            "text/plain": [
              "Creating parquet from Arrow format:   0%|          | 0/500 [00:00<?, ?ba/s]"
            ],
            "application/vnd.jupyter.widget-view+json": {
              "version_major": 2,
              "version_minor": 0,
              "model_id": "55b9aebdbb2b4ca8b9a7edaa204866f6"
            }
          },
          "metadata": {}
        },
        {
          "output_type": "execute_result",
          "data": {
            "text/plain": [
              "47289000"
            ]
          },
          "metadata": {},
          "execution_count": 17
        }
      ],
      "source": [
        "# prompt: load a hugging face dataset and get the parquet file \"david4096/dehydrated-croissant\"\n",
        "\n",
        "from datasets import load_dataset\n",
        "\n",
        "# Load the dataset\n",
        "dataset = load_dataset(\"david4096/dehydrated-croissant\", split=\"train\")\n",
        "# write the parquet out to file\n",
        "dataset.to_parquet(\"dehydrated-croissant.parquet\")\n",
        "\n",
        "\n"
      ]
    },
    {
      "cell_type": "code",
      "source": [],
      "metadata": {
        "colab": {
          "base_uri": "https://localhost:8080/",
          "height": 66,
          "referenced_widgets": [
            "5a0ab55ac8534320bc72aadf13258cfa",
            "782a4ba843fb458b82bba0ae3976ff68",
            "e4c7dad2c94f449eae3e9987e2808762",
            "90928940697840b8b480551d5f6d58da",
            "a419e7670c1d4799b7aa6c6d25edcc6d",
            "6fec3c06165a45aba69d36589beef9c4",
            "5353fd4eace440b480120a458c588228",
            "10532c7c3a854541a6a0c07a76b1652a",
            "bb71837aa3a148179f8935604a6b623b",
            "6b780e8082374baebc7ffe53aca15b58",
            "8d678c717a404a47b2485a359cb2e264"
          ]
        },
        "id": "hiWpP8wjeHp-",
        "outputId": "7d9d9b7e-5b37-4aa9-c4fd-1f6277814bec"
      },
      "execution_count": 5,
      "outputs": [
        {
          "output_type": "display_data",
          "data": {
            "text/plain": [
              "Creating parquet from Arrow format:   0%|          | 0/500 [00:00<?, ?ba/s]"
            ],
            "application/vnd.jupyter.widget-view+json": {
              "version_major": 2,
              "version_minor": 0,
              "model_id": "5a0ab55ac8534320bc72aadf13258cfa"
            }
          },
          "metadata": {}
        },
        {
          "output_type": "execute_result",
          "data": {
            "text/plain": [
              "47289000"
            ]
          },
          "metadata": {},
          "execution_count": 5
        }
      ]
    },
    {
      "cell_type": "code",
      "source": [
        "# You can then use this file path to load data with libraries like pandas or pyarrow\n",
        "# For example, using pandas:\n",
        "\n",
        "import pandas as pd\n",
        "df = pd.read_parquet(\"dehydrated-croissant.parquet\")\n",
        "\n",
        "# If the dataset provides a direct method to access data, you can use it as well:\n",
        "# For example, if it returns a pandas DataFrame directly\n",
        "# df = dataset.to_pandas()"
      ],
      "metadata": {
        "id": "qzPL_9NQeaPd"
      },
      "execution_count": 6,
      "outputs": []
    },
    {
      "cell_type": "code",
      "source": [
        "import requests\n",
        "#headers = {\"Authorization\": f\"Bearer {API_TOKEN}\"}\n",
        "API_URL = \"https://huggingface.co/api/datasets/david4096/dehydrated-croissant/croissant\"\n",
        "def query():\n",
        "    response = requests.get(API_URL)\n",
        "    return response.json()\n",
        "data = query()"
      ],
      "metadata": {
        "id": "FFsM9hVTevof"
      },
      "execution_count": 7,
      "outputs": []
    },
    {
      "cell_type": "code",
      "source": [
        "data"
      ],
      "metadata": {
        "colab": {
          "base_uri": "https://localhost:8080/"
        },
        "id": "awoFZPEigaH6",
        "outputId": "73786dc7-a5ec-4b69-c118-c1e31de796a2"
      },
      "execution_count": 8,
      "outputs": [
        {
          "output_type": "execute_result",
          "data": {
            "text/plain": [
              "{'@context': {'@language': 'en',\n",
              "  '@vocab': 'https://schema.org/',\n",
              "  'citeAs': 'cr:citeAs',\n",
              "  'column': 'cr:column',\n",
              "  'conformsTo': 'dct:conformsTo',\n",
              "  'cr': 'http://mlcommons.org/croissant/',\n",
              "  'data': {'@id': 'cr:data', '@type': '@json'},\n",
              "  'dataBiases': 'cr:dataBiases',\n",
              "  'dataCollection': 'cr:dataCollection',\n",
              "  'dataType': {'@id': 'cr:dataType', '@type': '@vocab'},\n",
              "  'dct': 'http://purl.org/dc/terms/',\n",
              "  'extract': 'cr:extract',\n",
              "  'field': 'cr:field',\n",
              "  'fileProperty': 'cr:fileProperty',\n",
              "  'fileObject': 'cr:fileObject',\n",
              "  'fileSet': 'cr:fileSet',\n",
              "  'format': 'cr:format',\n",
              "  'includes': 'cr:includes',\n",
              "  'isLiveDataset': 'cr:isLiveDataset',\n",
              "  'jsonPath': 'cr:jsonPath',\n",
              "  'key': 'cr:key',\n",
              "  'md5': 'cr:md5',\n",
              "  'parentField': 'cr:parentField',\n",
              "  'path': 'cr:path',\n",
              "  'personalSensitiveInformation': 'cr:personalSensitiveInformation',\n",
              "  'recordSet': 'cr:recordSet',\n",
              "  'references': 'cr:references',\n",
              "  'regex': 'cr:regex',\n",
              "  'repeated': 'cr:repeated',\n",
              "  'replace': 'cr:replace',\n",
              "  'sc': 'https://schema.org/',\n",
              "  'separator': 'cr:separator',\n",
              "  'source': 'cr:source',\n",
              "  'subField': 'cr:subField',\n",
              "  'transform': 'cr:transform'},\n",
              " '@type': 'sc:Dataset',\n",
              " 'distribution': [{'@type': 'cr:FileObject',\n",
              "   '@id': 'repo',\n",
              "   'name': 'repo',\n",
              "   'description': 'The Hugging Face git repository.',\n",
              "   'contentUrl': 'https://huggingface.co/datasets/david4096/dehydrated-croissant/tree/refs%2Fconvert%2Fparquet',\n",
              "   'encodingFormat': 'git+https',\n",
              "   'sha256': 'https://github.com/mlcommons/croissant/issues/80'},\n",
              "  {'@type': 'cr:FileSet',\n",
              "   '@id': 'parquet-files-for-config-default',\n",
              "   'containedIn': {'@id': 'repo'},\n",
              "   'encodingFormat': 'application/x-parquet',\n",
              "   'includes': 'default/*/*.parquet'}],\n",
              " 'recordSet': [{'@type': 'cr:RecordSet',\n",
              "   'dataType': 'cr:Split',\n",
              "   'key': {'@id': 'default_splits/split_name'},\n",
              "   '@id': 'default_splits',\n",
              "   'name': 'default_splits',\n",
              "   'description': 'Splits for the default config.',\n",
              "   'field': [{'@type': 'cr:Field',\n",
              "     '@id': 'default_splits/split_name',\n",
              "     'dataType': 'sc:Text'}],\n",
              "   'data': [{'default_splits/split_name': 'train'}]},\n",
              "  {'@type': 'cr:RecordSet',\n",
              "   '@id': 'default',\n",
              "   'description': \"david4096/dehydrated-croissant - 'default' subset\",\n",
              "   'field': [{'@type': 'cr:Field',\n",
              "     '@id': 'default/split',\n",
              "     'dataType': 'sc:Text',\n",
              "     'source': {'fileSet': {'@id': 'parquet-files-for-config-default'},\n",
              "      'extract': {'fileProperty': 'fullpath'},\n",
              "      'transform': {'regex': 'default/(?:partial-)?(train)/.+parquet$'}},\n",
              "     'references': {'field': {'@id': 'default_splits/split_name'}}},\n",
              "    {'@type': 'cr:Field',\n",
              "     '@id': 'default/dataset_name',\n",
              "     'dataType': 'sc:Text',\n",
              "     'source': {'fileSet': {'@id': 'parquet-files-for-config-default'},\n",
              "      'extract': {'column': 'dataset_name'}}},\n",
              "    {'@type': 'cr:Field',\n",
              "     '@id': 'default/point_id',\n",
              "     'dataType': 'sc:Integer',\n",
              "     'source': {'fileSet': {'@id': 'parquet-files-for-config-default'},\n",
              "      'extract': {'column': 'point_id'}}},\n",
              "    {'@type': 'cr:Field',\n",
              "     '@id': 'default/x',\n",
              "     'dataType': 'sc:Float',\n",
              "     'source': {'fileSet': {'@id': 'parquet-files-for-config-default'},\n",
              "      'extract': {'column': 'x'}}},\n",
              "    {'@type': 'cr:Field',\n",
              "     '@id': 'default/y',\n",
              "     'dataType': 'sc:Float',\n",
              "     'source': {'fileSet': {'@id': 'parquet-files-for-config-default'},\n",
              "      'extract': {'column': 'y'}}},\n",
              "    {'@type': 'cr:Field',\n",
              "     '@id': 'default/z',\n",
              "     'dataType': 'sc:Float',\n",
              "     'source': {'fileSet': {'@id': 'parquet-files-for-config-default'},\n",
              "      'extract': {'column': 'z'}}},\n",
              "    {'@type': 'cr:Field',\n",
              "     '@id': 'default/w',\n",
              "     'dataType': 'sc:Float',\n",
              "     'source': {'fileSet': {'@id': 'parquet-files-for-config-default'},\n",
              "      'extract': {'column': 'w'}}},\n",
              "    {'@type': 'cr:Field',\n",
              "     '@id': 'default/additional_info',\n",
              "     'dataType': 'sc:Text',\n",
              "     'source': {'fileSet': {'@id': 'parquet-files-for-config-default'},\n",
              "      'extract': {'column': 'additional_info'}}}]}],\n",
              " 'conformsTo': 'http://mlcommons.org/croissant/1.0',\n",
              " 'name': 'dehydrated-croissant',\n",
              " 'description': 'david4096/dehydrated-croissant dataset hosted on Hugging Face and contributed by the HF Datasets community',\n",
              " 'alternateName': ['david4096/dehydrated-croissant'],\n",
              " 'creator': {'@type': 'Person',\n",
              "  'name': 'David Steinberg',\n",
              "  'url': 'https://huggingface.co/david4096'},\n",
              " 'keywords': ['100K - 1M',\n",
              "  'parquet',\n",
              "  'Tabular',\n",
              "  'Text',\n",
              "  'Datasets',\n",
              "  'pandas',\n",
              "  'Croissant',\n",
              "  'Polars',\n",
              "  '🇺🇸 Region: US'],\n",
              " 'url': 'https://huggingface.co/datasets/david4096/dehydrated-croissant'}"
            ]
          },
          "metadata": {},
          "execution_count": 8
        }
      ]
    },
    {
      "cell_type": "code",
      "source": [
        "import pyarrow.parquet as pq\n",
        "import pyarrow as pa\n",
        "import json\n",
        "\n",
        "table = pq.read_table(\"dehydrated-croissant.parquet\")\n",
        "\n",
        "# Read existing metadata\n",
        "metadata = table.schema.metadata or {}  # Ensure metadata is not None\n",
        "metadata_dict = {k.decode(): v.decode() for k, v in metadata.items()}\n",
        "\n",
        "# Update metadata\n",
        "metadata_dict[\"croissant\"] = json.dumps(data)\n",
        "\n",
        "# Convert updated metadata back to bytes\n",
        "new_metadata = {k.encode(): v.encode() for k, v in metadata_dict.items()}\n",
        "\n",
        "# Update schema with new metadata\n",
        "new_schema = table.schema.with_metadata(new_metadata)\n",
        "\n",
        "# Create a new table with updated schema\n",
        "new_table = pa.Table.from_arrays(table.columns, schema=new_schema)\n",
        "\n",
        "# Write the updated table back to the Parquet file\n",
        "pq.write_table(new_table, \"rehydrated-croissant.parquet\")\n",
        "\n",
        "print(\"Metadata updated successfully!\")"
      ],
      "metadata": {
        "colab": {
          "base_uri": "https://localhost:8080/"
        },
        "id": "CdGhv4P5e4z-",
        "outputId": "198f7f11-737f-4ab2-b45f-ae32b02b1d0b"
      },
      "execution_count": 9,
      "outputs": [
        {
          "output_type": "stream",
          "name": "stdout",
          "text": [
            "Metadata updated successfully!\n"
          ]
        }
      ]
    },
    {
      "cell_type": "code",
      "source": [
        "print(new_table.schema.metadata)"
      ],
      "metadata": {
        "colab": {
          "base_uri": "https://localhost:8080/"
        },
        "id": "BqaSjSENe0t0",
        "outputId": "95b72e7d-519c-4670-c309-ebe74b2987ed"
      },
      "execution_count": 10,
      "outputs": [
        {
          "output_type": "stream",
          "name": "stdout",
          "text": [
            "{b'huggingface': b'{\"info\": {\"features\": {\"dataset_name\": {\"dtype\": \"string\", \"_type\": \"Value\"}, \"point_id\": {\"dtype\": \"int64\", \"_type\": \"Value\"}, \"x\": {\"dtype\": \"float64\", \"_type\": \"Value\"}, \"y\": {\"dtype\": \"float64\", \"_type\": \"Value\"}, \"z\": {\"dtype\": \"float64\", \"_type\": \"Value\"}, \"w\": {\"dtype\": \"float64\", \"_type\": \"Value\"}, \"additional_info\": {\"dtype\": \"string\", \"_type\": \"Value\"}}}}', b'croissant': b'{\"@context\": {\"@language\": \"en\", \"@vocab\": \"https://schema.org/\", \"citeAs\": \"cr:citeAs\", \"column\": \"cr:column\", \"conformsTo\": \"dct:conformsTo\", \"cr\": \"http://mlcommons.org/croissant/\", \"data\": {\"@id\": \"cr:data\", \"@type\": \"@json\"}, \"dataBiases\": \"cr:dataBiases\", \"dataCollection\": \"cr:dataCollection\", \"dataType\": {\"@id\": \"cr:dataType\", \"@type\": \"@vocab\"}, \"dct\": \"http://purl.org/dc/terms/\", \"extract\": \"cr:extract\", \"field\": \"cr:field\", \"fileProperty\": \"cr:fileProperty\", \"fileObject\": \"cr:fileObject\", \"fileSet\": \"cr:fileSet\", \"format\": \"cr:format\", \"includes\": \"cr:includes\", \"isLiveDataset\": \"cr:isLiveDataset\", \"jsonPath\": \"cr:jsonPath\", \"key\": \"cr:key\", \"md5\": \"cr:md5\", \"parentField\": \"cr:parentField\", \"path\": \"cr:path\", \"personalSensitiveInformation\": \"cr:personalSensitiveInformation\", \"recordSet\": \"cr:recordSet\", \"references\": \"cr:references\", \"regex\": \"cr:regex\", \"repeated\": \"cr:repeated\", \"replace\": \"cr:replace\", \"sc\": \"https://schema.org/\", \"separator\": \"cr:separator\", \"source\": \"cr:source\", \"subField\": \"cr:subField\", \"transform\": \"cr:transform\"}, \"@type\": \"sc:Dataset\", \"distribution\": [{\"@type\": \"cr:FileObject\", \"@id\": \"repo\", \"name\": \"repo\", \"description\": \"The Hugging Face git repository.\", \"contentUrl\": \"https://huggingface.co/datasets/david4096/dehydrated-croissant/tree/refs%2Fconvert%2Fparquet\", \"encodingFormat\": \"git+https\", \"sha256\": \"https://github.com/mlcommons/croissant/issues/80\"}, {\"@type\": \"cr:FileSet\", \"@id\": \"parquet-files-for-config-default\", \"containedIn\": {\"@id\": \"repo\"}, \"encodingFormat\": \"application/x-parquet\", \"includes\": \"default/*/*.parquet\"}], \"recordSet\": [{\"@type\": \"cr:RecordSet\", \"dataType\": \"cr:Split\", \"key\": {\"@id\": \"default_splits/split_name\"}, \"@id\": \"default_splits\", \"name\": \"default_splits\", \"description\": \"Splits for the default config.\", \"field\": [{\"@type\": \"cr:Field\", \"@id\": \"default_splits/split_name\", \"dataType\": \"sc:Text\"}], \"data\": [{\"default_splits/split_name\": \"train\"}]}, {\"@type\": \"cr:RecordSet\", \"@id\": \"default\", \"description\": \"david4096/dehydrated-croissant - \\'default\\' subset\", \"field\": [{\"@type\": \"cr:Field\", \"@id\": \"default/split\", \"dataType\": \"sc:Text\", \"source\": {\"fileSet\": {\"@id\": \"parquet-files-for-config-default\"}, \"extract\": {\"fileProperty\": \"fullpath\"}, \"transform\": {\"regex\": \"default/(?:partial-)?(train)/.+parquet$\"}}, \"references\": {\"field\": {\"@id\": \"default_splits/split_name\"}}}, {\"@type\": \"cr:Field\", \"@id\": \"default/dataset_name\", \"dataType\": \"sc:Text\", \"source\": {\"fileSet\": {\"@id\": \"parquet-files-for-config-default\"}, \"extract\": {\"column\": \"dataset_name\"}}}, {\"@type\": \"cr:Field\", \"@id\": \"default/point_id\", \"dataType\": \"sc:Integer\", \"source\": {\"fileSet\": {\"@id\": \"parquet-files-for-config-default\"}, \"extract\": {\"column\": \"point_id\"}}}, {\"@type\": \"cr:Field\", \"@id\": \"default/x\", \"dataType\": \"sc:Float\", \"source\": {\"fileSet\": {\"@id\": \"parquet-files-for-config-default\"}, \"extract\": {\"column\": \"x\"}}}, {\"@type\": \"cr:Field\", \"@id\": \"default/y\", \"dataType\": \"sc:Float\", \"source\": {\"fileSet\": {\"@id\": \"parquet-files-for-config-default\"}, \"extract\": {\"column\": \"y\"}}}, {\"@type\": \"cr:Field\", \"@id\": \"default/z\", \"dataType\": \"sc:Float\", \"source\": {\"fileSet\": {\"@id\": \"parquet-files-for-config-default\"}, \"extract\": {\"column\": \"z\"}}}, {\"@type\": \"cr:Field\", \"@id\": \"default/w\", \"dataType\": \"sc:Float\", \"source\": {\"fileSet\": {\"@id\": \"parquet-files-for-config-default\"}, \"extract\": {\"column\": \"w\"}}}, {\"@type\": \"cr:Field\", \"@id\": \"default/additional_info\", \"dataType\": \"sc:Text\", \"source\": {\"fileSet\": {\"@id\": \"parquet-files-for-config-default\"}, \"extract\": {\"column\": \"additional_info\"}}}]}], \"conformsTo\": \"http://mlcommons.org/croissant/1.0\", \"name\": \"dehydrated-croissant\", \"description\": \"david4096/dehydrated-croissant dataset hosted on Hugging Face and contributed by the HF Datasets community\", \"alternateName\": [\"david4096/dehydrated-croissant\"], \"creator\": {\"@type\": \"Person\", \"name\": \"David Steinberg\", \"url\": \"https://huggingface.co/david4096\"}, \"keywords\": [\"100K - 1M\", \"parquet\", \"Tabular\", \"Text\", \"Datasets\", \"pandas\", \"Croissant\", \"Polars\", \"\\\\ud83c\\\\uddfa\\\\ud83c\\\\uddf8 Region: US\"], \"url\": \"https://huggingface.co/datasets/david4096/dehydrated-croissant\"}'}\n"
          ]
        }
      ]
    },
    {
      "cell_type": "code",
      "source": [
        "print(new_table.schema.metadata[b'croissant'])"
      ],
      "metadata": {
        "colab": {
          "base_uri": "https://localhost:8080/"
        },
        "id": "aSs3nW0ngBmF",
        "outputId": "b0612654-52ea-4be4-b85e-f3b55c9de91e"
      },
      "execution_count": 13,
      "outputs": [
        {
          "output_type": "stream",
          "name": "stdout",
          "text": [
            "b'{\"@context\": {\"@language\": \"en\", \"@vocab\": \"https://schema.org/\", \"citeAs\": \"cr:citeAs\", \"column\": \"cr:column\", \"conformsTo\": \"dct:conformsTo\", \"cr\": \"http://mlcommons.org/croissant/\", \"data\": {\"@id\": \"cr:data\", \"@type\": \"@json\"}, \"dataBiases\": \"cr:dataBiases\", \"dataCollection\": \"cr:dataCollection\", \"dataType\": {\"@id\": \"cr:dataType\", \"@type\": \"@vocab\"}, \"dct\": \"http://purl.org/dc/terms/\", \"extract\": \"cr:extract\", \"field\": \"cr:field\", \"fileProperty\": \"cr:fileProperty\", \"fileObject\": \"cr:fileObject\", \"fileSet\": \"cr:fileSet\", \"format\": \"cr:format\", \"includes\": \"cr:includes\", \"isLiveDataset\": \"cr:isLiveDataset\", \"jsonPath\": \"cr:jsonPath\", \"key\": \"cr:key\", \"md5\": \"cr:md5\", \"parentField\": \"cr:parentField\", \"path\": \"cr:path\", \"personalSensitiveInformation\": \"cr:personalSensitiveInformation\", \"recordSet\": \"cr:recordSet\", \"references\": \"cr:references\", \"regex\": \"cr:regex\", \"repeated\": \"cr:repeated\", \"replace\": \"cr:replace\", \"sc\": \"https://schema.org/\", \"separator\": \"cr:separator\", \"source\": \"cr:source\", \"subField\": \"cr:subField\", \"transform\": \"cr:transform\"}, \"@type\": \"sc:Dataset\", \"distribution\": [{\"@type\": \"cr:FileObject\", \"@id\": \"repo\", \"name\": \"repo\", \"description\": \"The Hugging Face git repository.\", \"contentUrl\": \"https://huggingface.co/datasets/david4096/dehydrated-croissant/tree/refs%2Fconvert%2Fparquet\", \"encodingFormat\": \"git+https\", \"sha256\": \"https://github.com/mlcommons/croissant/issues/80\"}, {\"@type\": \"cr:FileSet\", \"@id\": \"parquet-files-for-config-default\", \"containedIn\": {\"@id\": \"repo\"}, \"encodingFormat\": \"application/x-parquet\", \"includes\": \"default/*/*.parquet\"}], \"recordSet\": [{\"@type\": \"cr:RecordSet\", \"dataType\": \"cr:Split\", \"key\": {\"@id\": \"default_splits/split_name\"}, \"@id\": \"default_splits\", \"name\": \"default_splits\", \"description\": \"Splits for the default config.\", \"field\": [{\"@type\": \"cr:Field\", \"@id\": \"default_splits/split_name\", \"dataType\": \"sc:Text\"}], \"data\": [{\"default_splits/split_name\": \"train\"}]}, {\"@type\": \"cr:RecordSet\", \"@id\": \"default\", \"description\": \"david4096/dehydrated-croissant - \\'default\\' subset\", \"field\": [{\"@type\": \"cr:Field\", \"@id\": \"default/split\", \"dataType\": \"sc:Text\", \"source\": {\"fileSet\": {\"@id\": \"parquet-files-for-config-default\"}, \"extract\": {\"fileProperty\": \"fullpath\"}, \"transform\": {\"regex\": \"default/(?:partial-)?(train)/.+parquet$\"}}, \"references\": {\"field\": {\"@id\": \"default_splits/split_name\"}}}, {\"@type\": \"cr:Field\", \"@id\": \"default/dataset_name\", \"dataType\": \"sc:Text\", \"source\": {\"fileSet\": {\"@id\": \"parquet-files-for-config-default\"}, \"extract\": {\"column\": \"dataset_name\"}}}, {\"@type\": \"cr:Field\", \"@id\": \"default/point_id\", \"dataType\": \"sc:Integer\", \"source\": {\"fileSet\": {\"@id\": \"parquet-files-for-config-default\"}, \"extract\": {\"column\": \"point_id\"}}}, {\"@type\": \"cr:Field\", \"@id\": \"default/x\", \"dataType\": \"sc:Float\", \"source\": {\"fileSet\": {\"@id\": \"parquet-files-for-config-default\"}, \"extract\": {\"column\": \"x\"}}}, {\"@type\": \"cr:Field\", \"@id\": \"default/y\", \"dataType\": \"sc:Float\", \"source\": {\"fileSet\": {\"@id\": \"parquet-files-for-config-default\"}, \"extract\": {\"column\": \"y\"}}}, {\"@type\": \"cr:Field\", \"@id\": \"default/z\", \"dataType\": \"sc:Float\", \"source\": {\"fileSet\": {\"@id\": \"parquet-files-for-config-default\"}, \"extract\": {\"column\": \"z\"}}}, {\"@type\": \"cr:Field\", \"@id\": \"default/w\", \"dataType\": \"sc:Float\", \"source\": {\"fileSet\": {\"@id\": \"parquet-files-for-config-default\"}, \"extract\": {\"column\": \"w\"}}}, {\"@type\": \"cr:Field\", \"@id\": \"default/additional_info\", \"dataType\": \"sc:Text\", \"source\": {\"fileSet\": {\"@id\": \"parquet-files-for-config-default\"}, \"extract\": {\"column\": \"additional_info\"}}}]}], \"conformsTo\": \"http://mlcommons.org/croissant/1.0\", \"name\": \"dehydrated-croissant\", \"description\": \"david4096/dehydrated-croissant dataset hosted on Hugging Face and contributed by the HF Datasets community\", \"alternateName\": [\"david4096/dehydrated-croissant\"], \"creator\": {\"@type\": \"Person\", \"name\": \"David Steinberg\", \"url\": \"https://huggingface.co/david4096\"}, \"keywords\": [\"100K - 1M\", \"parquet\", \"Tabular\", \"Text\", \"Datasets\", \"pandas\", \"Croissant\", \"Polars\", \"\\\\ud83c\\\\uddfa\\\\ud83c\\\\uddf8 Region: US\"], \"url\": \"https://huggingface.co/datasets/david4096/dehydrated-croissant\"}'\n"
          ]
        }
      ]
    },
    {
      "cell_type": "code",
      "source": [],
      "metadata": {
        "id": "4UGkKU3Cg2WQ"
      },
      "execution_count": null,
      "outputs": []
    }
  ]
}